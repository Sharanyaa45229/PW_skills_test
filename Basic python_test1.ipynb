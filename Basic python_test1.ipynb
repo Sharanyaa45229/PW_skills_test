{
 "cells": [
  {
   "cell_type": "markdown",
   "id": "a451f8c2-a370-4e8c-8110-a6e7762c317a",
   "metadata": {},
   "source": [
    "# Python test 1\n"
   ]
  },
  {
   "cell_type": "markdown",
   "id": "ff491cf9-9e97-46d5-854b-afbd98cc72bb",
   "metadata": {},
   "source": [
    "1. What is Python, and why is it popular ?\n",
    "\n",
    "a)Python is a programming language that executes the code line by    line. It is also called as interpreted language.\n",
    "b) It is popular because of it's versatility, simplicity, extensive libraries and served as multi purpose language.\n",
    "\n",
    "2. What is an interpreter in python?\n",
    "\n",
    "An Interpreter in python is a program that executes or convertes the byte code into machine code lime by line. The process repeates for each line of code.\n",
    "\n",
    "3. What are pre-defined keywords in python?\n",
    "\n",
    "Pre-defined keywords are reserved words that has specific usage. They have a fundamental building block of python syntax and structure.\n",
    "Example for, if, while are some keywords that does specific funtion.\n",
    "\n",
    "4. Can keywords be used as variable name?\n",
    "\n",
    "Keywords cannot be used as variable names. It will throw a syntax error.\n",
    "\n",
    "5. What is mutability in Python?\n",
    "\n",
    "Mutability in python refers to the object state in python is changed even after creating it. We will be able to modify the content if we wanted is called mutability. Example list is mutable.\n",
    "\n",
    "6. Why are lists mutable, but tuples are immutable?\n",
    "\n",
    "Lists are mutable because their creators intended them to be dynamic collections where elements can be added, removed, or changed.\n",
    "Lists are dynamic.\n",
    "Tuples, on the other hand, are immutable by design. They are meant to be static, unchangeable sequences. Tuples are static.\n",
    "\n",
    "7. What is the difference between “==” and “is” operators in Python?\n",
    "\n",
    "a)\"==\" (Equality operator): This operator checks if the values of two objects are equal. It compares the content of the objects.\n",
    "\n",
    "b)\"is\" (Identity operator): This operator checks if two variables refer to the exact same object in memory. It compares their memory addresses.\n",
    "\n",
    "8. What are logical operators in Python ?\n",
    "\n",
    "There are three logical operators in python, and, or, not.\n",
    "a) \"and\" returns \"True\" if both the conditions are true.\n",
    "b) \"or\" returns \"True\" if any of the condition is true.\n",
    "c) \"not\" returns \"True\" if the condition is false. Returns \"False\" if the condition is true.\n",
    "\r",
    "9. What is type casting in Python?\n",
    "\n",
    "Type casting is converting one type of data into another type.\n",
    "Example, \n",
    "num = \"20\"\n",
    "print(int(num)+5)\n",
    "The output will be 25, the string data type is converted into interger.\n",
    "\n",
    "10. What is the difference between implicit and explicit type casting?\n",
    "\n",
    "Implicit type casting is the type conversion done automatically by the python interpreter itself. Example when a input is got from the user using input() it is defaultly obtained in str() datatype.\n",
    "\n",
    "Explicit type casting, also known as typecasting, is when a programmer explicitly converts a variable's data type using built-in functions like int(), float(), str(), etc. \n",
    "\n",
    "11. What is the purpose of conditional statements in Python?\n",
    "\n",
    "The purpose of conditional statements in Python is to control the flow of your program. They allow us to execute a specific block of code only if a certain condition is met.\n",
    "The primary conditional statements in Python are if, elif, and else.\n",
    "\n",
    "12. How does the elif statement work ?\n",
    "\n",
    "The elif statement in Python is short for \"else if\" and is used to check for another condition if the preceding if or elif statements were all false. \n",
    "\n",
    "The Python interpreter first checks the condition of the initial if statement.\n",
    "\n",
    "If the if condition is True, its code block is executed, and the entire if...elif...else block is finished. The interpreter skips all subsequent elif and else checks.\n",
    "\n",
    "If the if condition is False, the interpreter moves on to the first elif statement.\n",
    "\n",
    "If that elif condition is True, its code block is executed, and the chain is finished.\n",
    "example:\n",
    "\n",
    "score = 85\n",
    "\n",
    "if score >= 90:\n",
    "    print(\"A Grade\")\n",
    "elif score >= 80:\n",
    "    print(\"B Grade\")\n",
    "elif score >= 70:\n",
    "    print(\"C Grade\")\n",
    "else:\n",
    "    print(\"Better luck next time.\")\n",
    "\n",
    "The if condition (score >= 90) is False.\n",
    "\n",
    "The interpreter then checks the first elif condition (score >= 80), which is True.\n",
    "\n",
    "The output will be \"You got a B.\".\n",
    "\n",
    "The interpreter stops there and does not check the remaining elif or else statements.\n",
    "\n",
    "13. What is the difference between for and while loops ?\n",
    "\n",
    "for loop is used when we know the number of iterations or want to process each valu in a sequence.\n",
    "\n",
    "Example:\n",
    "for i in range(5):\n",
    "  print(i)\n",
    "\n",
    "  \n",
    "while loop is used when the number of iterations is unknown and depends on a condition. The loop continues to run until the condition becomes false.\n",
    "\n",
    "Example:\n",
    "\n",
    "count = 0\n",
    "while count < 5:\n",
    "  print(count)\n",
    "  count += 1\n",
    "\n",
    "14. Describe a scenario where a while loop is more suitable than a for loop.\n",
    "\n",
    "A while loop is more suitable than a for loop in scenarios where the number of iterations is unknown and the loop needs to continue until a specific condition is met.\n",
    "\n",
    "\n",
    "   "
   ]
  },
  {
   "cell_type": "markdown",
   "id": "8153954d-d4e6-4d1e-9902-57ef7373736b",
   "metadata": {},
   "source": [
    "# Practical Questions"
   ]
  },
  {
   "cell_type": "markdown",
   "id": "e9109aa3-c07c-4178-be05-a00e3fff2829",
   "metadata": {},
   "source": [
    "1) Write a python program to print \"Hello. World!\""
   ]
  },
  {
   "cell_type": "code",
   "execution_count": 2,
   "id": "347c81b2-5358-4dc6-9ae5-1cfad8ef7bf9",
   "metadata": {},
   "outputs": [
    {
     "name": "stdout",
     "output_type": "stream",
     "text": [
      "Hello, World!\n"
     ]
    }
   ],
   "source": [
    "print(\"Hello, World!\")"
   ]
  },
  {
   "cell_type": "markdown",
   "id": "b9f12269-c160-4a42-8164-ebd934f2c90a",
   "metadata": {},
   "source": [
    "2. Write a Python program that displays your name and age"
   ]
  },
  {
   "cell_type": "code",
   "execution_count": 5,
   "id": "03cefe81-a4f3-41a7-b257-ef22b2fe7351",
   "metadata": {},
   "outputs": [
    {
     "name": "stdin",
     "output_type": "stream",
     "text": [
      "Enter your name: Sharanyaa\n",
      "Enter your age: 23\n"
     ]
    },
    {
     "name": "stdout",
     "output_type": "stream",
     "text": [
      "Your name is Sharanyaa\n",
      "Your age is 23\n"
     ]
    }
   ],
   "source": [
    "name = input(\"Enter your name:\")\n",
    "age = input(\"Enter your age:\")\n",
    "\n",
    "print(f\"Your name is {name}\")\n",
    "print(f\"Your age is {age}\")"
   ]
  },
  {
   "cell_type": "markdown",
   "id": "f0c2b67c-58e3-4bca-b258-17631e676e28",
   "metadata": {},
   "source": [
    "3. Write code to print all the pre-defined keywords in Python using the keyword library"
   ]
  },
  {
   "cell_type": "code",
   "execution_count": 10,
   "id": "c6b71c9c-b07a-4081-aec8-e9c7c337c240",
   "metadata": {},
   "outputs": [
    {
     "name": "stdout",
     "output_type": "stream",
     "text": [
      "\n",
      "Here is a list of the Python keywords.  Enter any keyword to get more help.\n",
      "\n",
      "False               class               from                or\n",
      "None                continue            global              pass\n",
      "True                def                 if                  raise\n",
      "and                 del                 import              return\n",
      "as                  elif                in                  try\n",
      "assert              else                is                  while\n",
      "async               except              lambda              with\n",
      "await               finally             nonlocal            yield\n",
      "break               for                 not                 \n",
      "\n"
     ]
    }
   ],
   "source": [
    "help('keywords')"
   ]
  },
  {
   "cell_type": "markdown",
   "id": "0fbe8876-7657-4d0d-8653-cf66bcb31252",
   "metadata": {},
   "source": [
    "4. Write a program that checks if a given word is a Python keyword."
   ]
  },
  {
   "cell_type": "code",
   "execution_count": 11,
   "id": "e94ed90a-71f8-448c-b330-0ee21581bbd1",
   "metadata": {},
   "outputs": [
    {
     "name": "stdout",
     "output_type": "stream",
     "text": [
      "'for' is a Python keyword.\n"
     ]
    }
   ],
   "source": [
    "import keyword\n",
    "\n",
    "# The word for checking\n",
    "word = \"for\"\n",
    "\n",
    "if word in keyword.kwlist:\n",
    "  print(f\"'{word}' is a Python keyword.\")\n",
    "else:\n",
    "  print(f\"'{word}' is not a Python keyword.\")"
   ]
  },
  {
   "cell_type": "markdown",
   "id": "65d5e8b9-aaf5-4037-a7ac-646014fe1ebd",
   "metadata": {},
   "source": [
    "5.  Create a list and tuple in Python, and demonstrate how attempting to change an element works differently\r\n",
    "for each."
   ]
  },
  {
   "cell_type": "code",
   "execution_count": 2,
   "id": "1c511e80-9c6d-4668-afc7-3472c30ccb57",
   "metadata": {},
   "outputs": [
    {
     "name": "stdout",
     "output_type": "stream",
     "text": [
      "Original list: [1, 2, 3, 4]\n",
      "Original tuple: (10, 20, 30, 40)\n",
      "New list is shown after changing 1 as 5,[1, 5, 3, 4]\n"
     ]
    },
    {
     "ename": "TypeError",
     "evalue": "'tuple' object does not support item assignment",
     "output_type": "error",
     "traceback": [
      "\u001b[1;31m---------------------------------------------------------------------------\u001b[0m",
      "\u001b[1;31mTypeError\u001b[0m                                 Traceback (most recent call last)",
      "Cell \u001b[1;32mIn[2], line 16\u001b[0m\n\u001b[0;32m     13\u001b[0m \u001b[38;5;28mprint\u001b[39m(\u001b[38;5;124mf\u001b[39m\u001b[38;5;124m\"\u001b[39m\u001b[38;5;124mNew list is shown after changing 1 as 5,\u001b[39m\u001b[38;5;132;01m{\u001b[39;00mmy_list\u001b[38;5;132;01m}\u001b[39;00m\u001b[38;5;124m\"\u001b[39m)\n\u001b[0;32m     15\u001b[0m \u001b[38;5;66;03m#while executing this line of code the interpreter throws an error since tuples are immutable\u001b[39;00m\n\u001b[1;32m---> 16\u001b[0m my_tuple[\u001b[38;5;241m2\u001b[39m] \u001b[38;5;241m=\u001b[39m \u001b[38;5;241m50\u001b[39m\n\u001b[0;32m     17\u001b[0m \u001b[38;5;28mprint\u001b[39m(\u001b[38;5;124mf\u001b[39m\u001b[38;5;124m\"\u001b[39m\u001b[38;5;124mNew tuple is shown after changing 20 as 55\u001b[39m\u001b[38;5;124m\"\u001b[39m)\n",
      "\u001b[1;31mTypeError\u001b[0m: 'tuple' object does not support item assignment"
     ]
    }
   ],
   "source": [
    "# List - List are mutable\n",
    "# Tuple - Tuples are immutable\n",
    "\n",
    "# Creating a list\n",
    "my_list = [1, 2, 3, 4]\n",
    "print(f\"Original list: {my_list}\")\n",
    "\n",
    "# Creating a tuple\n",
    "my_tuple = (10, 20, 30, 40)\n",
    "print(f\"Original tuple: {my_tuple}\")\n",
    "\n",
    "my_list[1] = 5\n",
    "print(f\"New list is shown after changing 1 as 5,{my_list}\")\n",
    "\n",
    "#while executing this line of code the interpreter throws an error since tuples are immutable\n",
    "my_tuple[2] = 50\n",
    "print(f\"New tuple is shown after changing 20 as 55\") # this will not be executed"
   ]
  },
  {
   "cell_type": "markdown",
   "id": "b95ab933-dc8e-462a-9a37-31e24d2f7d05",
   "metadata": {},
   "source": [
    "6.  Write a function to demonstrate the behavior of mutable and immutable arguments.\n"
   ]
  },
  {
   "cell_type": "code",
   "execution_count": 4,
   "id": "d53fbb5c-30ad-4b14-bac7-933b52c9dc96",
   "metadata": {},
   "outputs": [
    {
     "name": "stdout",
     "output_type": "stream",
     "text": [
      "The new list is[24, 87, 34, 7, 60]\n",
      "The new number is 10\n"
     ]
    }
   ],
   "source": [
    "def mutable_list(my_list):\n",
    "    my_list[3] = 7\n",
    "    print(f\"The new list is{my_list}\")\n",
    "\n",
    "def immutable_integer(num):\n",
    "    num = 10\n",
    "    print(f\"The new number is {num}\")\n",
    "\n",
    "my_list = [24, 87, 34, 11, 60]\n",
    "num = 89\n",
    "\n",
    "mutable_list(my_list) # We can see that 11 changed as 7 while executing this function\n",
    "immutable_integer(num) # while executing this function the value num is not changed to 89. it remains with the value 10"
   ]
  },
  {
   "cell_type": "markdown",
   "id": "a08429fe-8bc8-4285-8718-4d24ae75fea8",
   "metadata": {},
   "source": [
    "7. Write a program that performs basic arithmetic operations on two user-input numbers."
   ]
  },
  {
   "cell_type": "code",
   "execution_count": 5,
   "id": "b6cd6b37-4da3-4b99-933f-10c3a0033cbf",
   "metadata": {},
   "outputs": [
    {
     "name": "stdin",
     "output_type": "stream",
     "text": [
      "Enter the first number:  24\n",
      "Enter the second number:  5\n"
     ]
    },
    {
     "name": "stdout",
     "output_type": "stream",
     "text": [
      "Sum of both the numbers is 29\n",
      "Subtraction of both the numbers is 19\n",
      "Product of both the numbers is 120\n",
      "Division of both the numbers is 4.8\n",
      "Power of num1 to the power of num2 is 7962624\n",
      "Floor division of both the numbers is 4\n",
      "Remainder of both the numbers is 4\n"
     ]
    }
   ],
   "source": [
    "def arithmetic_operation(num1, num2):\n",
    "    print(f\"Sum of both the numbers is {num1 + num2}\")\n",
    "    print(f\"Subtraction of both the numbers is {num1 - num2}\")\n",
    "    print(f\"Product of both the numbers is {num1 * num2}\")\n",
    "    print(f\"Division of both the numbers is {num1 / num2}\")\n",
    "    print(f\"Power of num1 to the power of num2 is {num1 ** num2}\")\n",
    "    print(f\"Floor division of both the numbers is {num1 // num2}\")\n",
    "    print(f\"Remainder of both the numbers is {num1 % num2}\")\n",
    "\n",
    "num1 = int(input(\"Enter the first number: \"))\n",
    "num2 = int(input(\"Enter the second number: \"))\n",
    "\n",
    "arithmetic_operation(num1, num2)"
   ]
  },
  {
   "cell_type": "markdown",
   "id": "c899e666-3b68-400f-a757-4d872a07e370",
   "metadata": {},
   "source": [
    "8.  Write a program to demonstrate the use of logical operators"
   ]
  },
  {
   "cell_type": "code",
   "execution_count": 8,
   "id": "8532ba1b-18c4-484f-a466-2074dcdbca59",
   "metadata": {},
   "outputs": [
    {
     "name": "stdout",
     "output_type": "stream",
     "text": [
      "The number 56 is positive even\n",
      "The number 56 is not in the list\n"
     ]
    }
   ],
   "source": [
    "# Logical operators are and, or, not\n",
    "\n",
    "# and executes if both the conditions are True\n",
    "# or executes if any of the condition or both the condition is True\n",
    "# not executed if the condition is false\n",
    "\n",
    "my_list = [20,100,78,45,27]\n",
    "num = 56\n",
    "if (num%2==0) and (num>0):\n",
    "    print(f\"The number {num} is positive even\")\n",
    "elif (num%2!=0) or (num>0):\n",
    "    print(f\"The number is positive odd\")\n",
    "    \n",
    "if num not in my_list:\n",
    "    print(f\"The number {num} is not in the list\")\n",
    "    "
   ]
  },
  {
   "cell_type": "markdown",
   "id": "4b0c812f-0283-477c-a028-06d622af08da",
   "metadata": {},
   "source": [
    "9. Write a Python program to convert user input from string to integer, float, and boolean types."
   ]
  },
  {
   "cell_type": "code",
   "execution_count": 12,
   "id": "c8e411ba-8ad3-4667-9c8a-83f3b08512e3",
   "metadata": {},
   "outputs": [
    {
     "name": "stdin",
     "output_type": "stream",
     "text": [
      "Enter a number 34\n",
      "Enter a float number 99\n",
      "Enter a number 12\n"
     ]
    },
    {
     "name": "stdout",
     "output_type": "stream",
     "text": [
      "initial type of user_int is <class 'str'>\n",
      "initial type of user_int is <class 'str'>\n",
      "initial type of user_int is <class 'str'>\n",
      "initial type of user_int is <class 'int'> converted as integer 34\n",
      "initial type of user_int is <class 'float'>  converted as float value 99.0\n",
      "initial type of user_int is <class 'bool'>  converted as boolean value True\n"
     ]
    }
   ],
   "source": [
    "user_int = input(\"Enter a number\")\n",
    "user_float = input(\"Enter a float number\")\n",
    "user_bool = input(\"Enter a number\")\n",
    "\n",
    "print(f\"initial type of user_int is {type(user_int)}\")\n",
    "print(f\"initial type of user_int is {type(user_float)}\")\n",
    "print(f\"initial type of user_int is {type(user_bool)}\")\n",
    "\n",
    "new_value_int = int(user_int)\n",
    "new_value_float = float(user_float)\n",
    "new_value_bool = bool(user_bool)\n",
    "\n",
    "print(f\"initial type of user_int is {type(new_value_int)} converted as integer {new_value_int}\")\n",
    "print(f\"initial type of user_int is {type(new_value_float)}  converted as float value {new_value_float}\")\n",
    "print(f\"initial type of user_int is {type(new_value_bool)}  converted as boolean value {new_value_bool}\")"
   ]
  },
  {
   "cell_type": "markdown",
   "id": "80a43b6e-ef18-45ff-8710-a050812908f1",
   "metadata": {},
   "source": [
    "10. Write code to demonstrate type casting with list elements."
   ]
  },
  {
   "cell_type": "code",
   "execution_count": 20,
   "id": "f6585075-7f40-4052-94ba-7987aeab7884",
   "metadata": {},
   "outputs": [
    {
     "name": "stdout",
     "output_type": "stream",
     "text": [
      "Type of the element 1 in list is <class 'str'>\n",
      "Type of the element 28.9 in list is <class 'str'>\n",
      "Type of the element True in list is <class 'str'>\n",
      "Type of the element 4 in list is <class 'int'>\n",
      "Type of the element 1 in list is <class 'int'>\n",
      "Type of the element 28.9 in list is <class 'float'>\n",
      "Type of the element True in list is <class 'bool'>\n",
      "Type of the element 4 in list is <class 'str'>\n",
      "New list is [1, 28.9, True, '4']\n"
     ]
    }
   ],
   "source": [
    "\n",
    "asorted_list = [\"1\", \"28.9\", \"True\", 4]\n",
    "\n",
    "for n in asorted_list:\n",
    "    print(f\"Type of the element {n} in list is {type(n)}\")\n",
    "\n",
    "def change_datatype():\n",
    "    # typecasting to the new list\n",
    "    asorted_list[0]= int(asorted_list[0])\n",
    "    asorted_list[1]= float(asorted_list[1])\n",
    "    asorted_list[2]= bool(asorted_list[2])\n",
    "    asorted_list[3]= str(asorted_list[3])\n",
    "\n",
    "change_datatype()\n",
    "for n in asorted_list:\n",
    "    print(f\"Type of the element {n} in list is {type(n)}\")\n",
    "\n",
    "new_list = asorted_list\n",
    "\n",
    "print(f\"New list is {new_list}\")"
   ]
  },
  {
   "cell_type": "markdown",
   "id": "5181f594-c176-476e-921c-5b996f142739",
   "metadata": {},
   "source": [
    "11. Write a program that checks if a number is positive, negative, or zero."
   ]
  },
  {
   "cell_type": "code",
   "execution_count": 22,
   "id": "938bb6bf-7a44-4e44-9822-cd315aa36ede",
   "metadata": {},
   "outputs": [
    {
     "name": "stdin",
     "output_type": "stream",
     "text": [
      "Enter the number: -9\n"
     ]
    },
    {
     "name": "stdout",
     "output_type": "stream",
     "text": [
      "The number -9 is Negative\n"
     ]
    }
   ],
   "source": [
    "# Program to find if the number is positive negative or zero\n",
    "num = int(input(\"Enter the number:\"))\n",
    "\n",
    "if (num>0): # executes if a number is positive\n",
    "    print(f\"The number {num} is Positive\")\n",
    "elif (num<0): # executes if the number is negative\n",
    "    print(f\"The number {num} is Negative\")\n",
    "else: # executes if the number is zero\n",
    "    print(\"The number is Zero\")"
   ]
  },
  {
   "cell_type": "markdown",
   "id": "8b0a1560-446c-4a36-9ccc-173b41d338e0",
   "metadata": {},
   "source": [
    "12. Write a for loop to print numbers from 1 to 10"
   ]
  },
  {
   "cell_type": "code",
   "execution_count": 3,
   "id": "769da023-f814-4802-a848-d00c9ab19300",
   "metadata": {},
   "outputs": [
    {
     "name": "stdout",
     "output_type": "stream",
     "text": [
      "Printing 1 to 10 using while loop\n",
      "1 2 3 4 5 6 7 8 9 10 \n",
      "Printing 1 to 10 using for loop\n",
      "1 2 3 4 5 6 7 8 9 10 "
     ]
    }
   ],
   "source": [
    "# print from 1 to 10 using while loop\n",
    "print(\"Printing 1 to 10 using while loop\")\n",
    "n = 1\n",
    "while n<=10:\n",
    "    print(n, end=\" \")\n",
    "    n += 1\n",
    "\n",
    "# print from 1 to 10 using for loop\n",
    "print()\n",
    "print(\"Printing 1 to 10 using for loop\")\n",
    "for n in range(1,11):\n",
    "    print(n, end=\" \")"
   ]
  },
  {
   "cell_type": "markdown",
   "id": "464f291a-b9d7-47c4-a991-a49d18e9ee73",
   "metadata": {},
   "source": [
    "13. Write a Python program to find the sum of all even numbers between 1 and 50"
   ]
  },
  {
   "cell_type": "code",
   "execution_count": 13,
   "id": "6478274e-7893-4225-9453-120a9e30c029",
   "metadata": {},
   "outputs": [
    {
     "name": "stdout",
     "output_type": "stream",
     "text": [
      "Sum of even numbers is 650\n"
     ]
    }
   ],
   "source": [
    "\n",
    "#initial value is assigned as zero\n",
    "sum = 0\n",
    "for i in range(1,51):\n",
    "    if (i%2==0): # executes only if the number is even\n",
    "        sum = sum+i \n",
    "print(f\"Sum of even numbers is {sum}\")"
   ]
  },
  {
   "cell_type": "markdown",
   "id": "bdbbedb3-d679-4224-9953-45cc835b8d2f",
   "metadata": {},
   "source": [
    "14. Write a program to reverse a string using a while loop.\r"
   ]
  },
  {
   "cell_type": "code",
   "execution_count": 19,
   "id": "435e9b4a-c81d-48b4-933d-e6cbb4882bf3",
   "metadata": {},
   "outputs": [
    {
     "name": "stdin",
     "output_type": "stream",
     "text": [
      "Enter the word to be reversed: apple\n"
     ]
    },
    {
     "name": "stdout",
     "output_type": "stream",
     "text": [
      "The reversed string is elppa\n"
     ]
    }
   ],
   "source": [
    "\n",
    "input_string = input(\"Enter the word to be reversed:\")\n",
    "def reversed_string():\n",
    "    reversed_string = \"\" # creating a temporary string for storing values\n",
    "    length = len(input_string) # to get the length of the string\n",
    "    i = length - 1 # to take the last element in the string\n",
    "    while i >= 0:\n",
    "        reversed_string = reversed_string + input_string[i]\n",
    "        i = i-1\n",
    "    print(f\"The reversed string is {reversed_string}\")    \n",
    "reversed_string()"
   ]
  },
  {
   "cell_type": "markdown",
   "id": "6162e566-4a67-4498-9a3b-b560c54f2ac5",
   "metadata": {},
   "source": [
    "15. Write a Python program to calculate the factorial of a number provided by the user using a while loop."
   ]
  },
  {
   "cell_type": "code",
   "execution_count": 20,
   "id": "f1bd5c02-1383-4e8d-8d11-1b85f307fb3c",
   "metadata": {},
   "outputs": [
    {
     "name": "stdin",
     "output_type": "stream",
     "text": [
      "Enter a positive integer:  5\n"
     ]
    },
    {
     "name": "stdout",
     "output_type": "stream",
     "text": [
      "The factorial of 5 is 120\n"
     ]
    }
   ],
   "source": [
    "# Get a number from the user\n",
    "number = int(input(\"Enter a positive integer: \"))\n",
    "\n",
    "# Handle the case of a non-negative number\n",
    "if number >= 0:\n",
    "    factorial = 1\n",
    "    counter = number\n",
    "\n",
    "    # Use a while loop to perform the multiplication\n",
    "    while counter > 0:\n",
    "        factorial = factorial * counter\n",
    "        counter -= 1\n",
    "    \n",
    "    print(f\"The factorial of {number} is {factorial}\")\n",
    "\n",
    "# Handle negative numbers\n",
    "else:\n",
    "    print(\"Factorial is not defined for negative numbers.\")"
   ]
  },
  {
   "cell_type": "code",
   "execution_count": null,
   "id": "ba856581-26a8-4668-bd1e-77234325fa39",
   "metadata": {},
   "outputs": [],
   "source": []
  }
 ],
 "metadata": {
  "kernelspec": {
   "display_name": "Python 3 (ipykernel)",
   "language": "python",
   "name": "python3"
  },
  "language_info": {
   "codemirror_mode": {
    "name": "ipython",
    "version": 3
   },
   "file_extension": ".py",
   "mimetype": "text/x-python",
   "name": "python",
   "nbconvert_exporter": "python",
   "pygments_lexer": "ipython3",
   "version": "3.11.7"
  }
 },
 "nbformat": 4,
 "nbformat_minor": 5
}
