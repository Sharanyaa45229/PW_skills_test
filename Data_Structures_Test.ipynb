{
 "cells": [
  {
   "cell_type": "markdown",
   "id": "5052f5b9-8a1c-45cc-bf63-a4528080f1a8",
   "metadata": {},
   "source": [
    "# Data types and Structures Questions"
   ]
  },
  {
   "cell_type": "markdown",
   "id": "d2033127-da43-494c-aa73-edbb2b576b30",
   "metadata": {},
   "source": [
    "1.What are data structures, and why are they important?\n",
    "\n",
    "a)Data structures are specialized formats for organizing, processing, and storing data. \n",
    "b)They're essential because they enable efficient management and manipulation of data, leading to faster and more optimized algorithms. Choosing the right data structure can significantly impact a program's performance and memory usage, especially with large datasets.\n",
    "\n",
    "2.Explain the difference between mutable and immutable data types with examples.\n",
    "\n",
    "Mutable data types can be changed after they're created, meaning you can modify their contents without creating a new object. Examples include lists and dictionaries. \n",
    "Immutable data types cannot be altered once they're defined; any change results in the creation of a new object. Examples include strings and tuples.\n",
    "\n",
    "3.What are the main differences between lists and tuples in Python?\n",
    "\n",
    "a)Lists are mutable, their elements can be changed, added, or removed after creation. They are defined using square brackets [] and are typically used for ordered collections that may need modification.\n",
    "\n",
    "b)Tuples, on the other hand, are immutable, meaning their contents cannot be changed once they're created. They are defined using parentheses () and are ideal for storing data that shouldn't be altered.\n",
    "\n",
    "4.Describe how dictionaries store data.\n",
    "\n",
    "Dictionaries store data as a collection of key-value pairs. Each key is unique and immutable (like a string, number, or tuple), and it maps to a corresponding value, which can be of any data type.\n",
    "\n",
    "5.Why might you use a set instead of a list in Python?\n",
    "\n",
    "a)Set is used instead of a list when you need to store a collection of unique, unordered items. \n",
    "b)Sets automatically handle duplicate values, ensuring each item appears only once. \n",
    "\n",
    "6.What is a string in Python, and how is it different from a list?\n",
    "\n",
    "A string is a sequence of characters, and it's an immutable data type. Once a string is created, its contents cannot be changed. In contrast, a list is a sequence of various data types and is mutable. You can add, remove, or modify elements within a list after it's been created.\n",
    "\n",
    "7.How do tuples ensure data integrity in Python?\n",
    "\n",
    "a)Tuples ensure data integrity because they are immutable. \n",
    "\n",
    "b)Once a tuple is created, its elements cannot be changed, removed, or reordered. \n",
    "\n",
    "8.What is a hash table, and how does it relate to dictionaries in Python?\n",
    "\n",
    "A hash table is a data structure that maps keys to values, allowing for fast data retrieval. A dictionary in Python is implemented using a hash table. When a key is added to a dictionary, a hash function computes an index for that key, determining where the corresponding value is stored in memory.\n",
    "\n",
    "9.Can lists contain different data types in Python?\n",
    "\n",
    "Yes, lists can contain different data types in Python. \n",
    "\n",
    "a)A single list can hold a mix of data types, such as integers, strings, floats, booleans, and even other lists or dictionaries. \n",
    "b)For example,list = [1, 'hello', 3.14, True].\n",
    "\n",
    "10.Explain why strings are immutable in Python.\n",
    "\n",
    "Strings are immutable in Python because when a string is created, Python allocates a specific memory location for it. \n",
    "If a string were mutable, changing a single character would require a new memory allocation.\n",
    "\n",
    "11.What advantages do dictionaries offer over lists for certain tasks?\n",
    "\n",
    "a)Dictionaries store data in key-value pairs, allowing you to use meaningful, descriptive keys \n",
    "\n",
    "b)Dictionary keys must be unique. This inherent property makes them ideal for tasks like frequency counting or creating a set of unique items, as you don't need to manually check for duplicates.\n",
    "\n",
    "12.Describe a scenario where using a tuple would be preferable over a list.\n",
    "\n",
    "A scenario where a tuple is preferable is when you need to store a fixed collection of related data that should not change, such as Employee id. For example, (Employee_name, Employee_id) or the RGB values of a color (red, green, blue).\n",
    "\n",
    "13.How do sets handle duplicate values in Python?\n",
    "\n",
    "Sets automatically handle duplicate values by only storing a single instance of each unique item. If you try to add an element that already exists in the set, the set will simply ignore the new value and the size of the set will not change. This makes sets perfect for removing duplicates from a collection of items.\n",
    "\n",
    "14.How does the “in” keyword work differently for lists and dictionaries?\n",
    "\n",
    "The in keyword checks for an element's existence. For a list, it checks if an item is present among the list's values. For a dictionary, the in keyword checks for the existence of a key, not a value.\n",
    "\n",
    "in operator in list:\n",
    "\n",
    "fruits = ['apple', 'banana', 'cherry']\n",
    "if \"apple\" in fruits:\n",
    "    print(\"Yes apple is available\")\n",
    "else:\n",
    "    print(\"No apple is not available\")\n",
    "\n",
    "in operator for dictionary\n",
    "\n",
    "student = {'name': 'Alice', 'age': 25, 'major': 'CS'}\n",
    "print('name' in student) # prints the value of the key\n",
    "\n",
    "15.Can you modify the elements of a tuple? Explain why or why not.\n",
    "\n",
    "No, you cannot modify the elements of a tuple. Tuples are an immutable data type. Once a tuple is created and its elements are defined, they cannot be changed, added, or removed. \n",
    "\n",
    "16.What is a nested dictionary, and give an example of its use case?\n",
    "\n",
    "a)A nested dictionary is a dictionary where the values are themselves other dictionaries. A common use case is storing structured, hierarchical data, like a database of user profiles. \n",
    "b)Eg: nested_dict = {'user1': {'name': 'Alice', 'age': 30}, 'user2': {'name': 'Bob', 'age': 25}}. Here, each key (e.g., 'user1') maps to a dictionary containing the user's specific information.\n",
    "\n",
    "17.Describe the time complexity of accessing elements in a dictionary.\n",
    "\n",
    "The time complexity of accessing elements in a dictionary is, on average, O(1), or constant time. This is because dictionaries use a hash table. When you provide a key, a hash function quickly computes the memory address where the corresponding value is stored, allowing for direct and extremely fast retrieval of the value, regardless of the dictionary's size.\n",
    "\n",
    "18.In what situations are lists preferred over dictionaries?\n",
    "\n",
    "Lists are preferred over dictionaries when the order of the data is important, or when you need to access elements by their integer index. They are also the go-to choice for simple, ordered collections of items, especially if the data will be iterated over sequentially and you don't need to perform fast lookups based on a key.\n",
    "\n",
    "19.Why are dictionaries considered unordered, and how does that affect data retrieval?\n",
    "\n",
    "Historically, dictionaries were considered unordered because their keys were stored based on a hash function, not by the order they were inserted. This meant that the order of items could not be relied upon. While modern Python versions (3.7+) maintain insertion order, they are still conceptually distinct from lists, which are ordered by index. Data retrieval is not affected; you still access values using their keys, not their position.\n",
    "\n",
    "20.Explain the difference between a list and a dictionary in terms of data retrieval.\n",
    "\n",
    "In a list, data retrieval is done by positional index (e.g., my_list[0]). To find a specific value, you often need to iterate through the list, which can be slow for large lists. In a dictionary, data retrieval is based on a unique, hashable key (e.g., my_dict['name']). This key-based access is significantly faster, as it allows for direct retrieval without a sequential search."
   ]
  },
  {
   "cell_type": "markdown",
   "id": "10ba1935-f26b-46d8-b607-209950fc3de3",
   "metadata": {},
   "source": [
    "# PRACTICAL QUESTIONS"
   ]
  },
  {
   "cell_type": "markdown",
   "id": "51a0405b-d8d9-4de7-874d-9c4185a03d7b",
   "metadata": {},
   "source": [
    "1. Write a code to create a string with your name and print it."
   ]
  },
  {
   "cell_type": "code",
   "execution_count": 1,
   "id": "3207b098-ac8e-445b-ae96-e7d7b776c78f",
   "metadata": {},
   "outputs": [
    {
     "name": "stdout",
     "output_type": "stream",
     "text": [
      "Sharanyaa\n"
     ]
    }
   ],
   "source": [
    "name = \"Sharanyaa\"  \n",
    "print(name)"
   ]
  },
  {
   "cell_type": "markdown",
   "id": "53a2faaa-4cd9-4cbb-b578-3bc46ba2e11d",
   "metadata": {},
   "source": [
    "2. Write a code to find the length of the string \"Hello World\""
   ]
  },
  {
   "cell_type": "code",
   "execution_count": 2,
   "id": "25fdcbd3-c8f8-4f55-86b1-6d5eba71f3e7",
   "metadata": {},
   "outputs": [
    {
     "name": "stdout",
     "output_type": "stream",
     "text": [
      "11\n"
     ]
    }
   ],
   "source": [
    "string = \"Hello World\"\n",
    "len_word = len(string)\n",
    "print(len_word)"
   ]
  },
  {
   "cell_type": "markdown",
   "id": "f696a037-de37-4e7d-b238-9bd83c7f5ecb",
   "metadata": {},
   "source": [
    "3. Write a code to slice the first 3 characters from the string \"Python Programming\""
   ]
  },
  {
   "cell_type": "code",
   "execution_count": 2,
   "id": "fe98aca0-674a-40ab-a132-2c47a2bc1e21",
   "metadata": {},
   "outputs": [
    {
     "name": "stdout",
     "output_type": "stream",
     "text": [
      "Pyt\n"
     ]
    }
   ],
   "source": [
    "str = \"Python Programming\"\n",
    "sliced_string = str[0:3]\n",
    "print(sliced_string)"
   ]
  },
  {
   "cell_type": "markdown",
   "id": "6951dcba-166a-40f5-8687-74a3c6a1e3d6",
   "metadata": {},
   "source": [
    "4. Write a code to convert the string \"hello\" to uppercase"
   ]
  },
  {
   "cell_type": "code",
   "execution_count": 3,
   "id": "5802e574-7cb9-433a-b571-76d019ca2559",
   "metadata": {},
   "outputs": [
    {
     "name": "stdout",
     "output_type": "stream",
     "text": [
      "HELLO\n"
     ]
    }
   ],
   "source": [
    "str = \"hello\"\n",
    "uppercase_string = str.upper()\n",
    "print(uppercase_string)"
   ]
  },
  {
   "cell_type": "markdown",
   "id": "d8b5bcc9-0e83-4fe5-8d2d-08565668f9e1",
   "metadata": {},
   "source": [
    "5. Write a code to replace the word \"apple\" with \"orange\" in the string \"I like apple\""
   ]
  },
  {
   "cell_type": "code",
   "execution_count": 4,
   "id": "a946cd3d-8560-472c-93ca-11b24494502f",
   "metadata": {},
   "outputs": [
    {
     "name": "stdout",
     "output_type": "stream",
     "text": [
      "I like orange\n"
     ]
    }
   ],
   "source": [
    "string = \"I like apple\"\n",
    "replace_string = string.replace(\"apple\", \"orange\")\n",
    "print(replace_string)"
   ]
  },
  {
   "cell_type": "markdown",
   "id": "083cec71-7f84-4f6b-aac5-780723fc028e",
   "metadata": {},
   "source": [
    "6. Write a code to create a list with numbers 1 to 5 and print it"
   ]
  },
  {
   "cell_type": "code",
   "execution_count": 5,
   "id": "20ecdc9a-3cf9-4118-a5a0-3ecc7a5c67d6",
   "metadata": {},
   "outputs": [
    {
     "name": "stdout",
     "output_type": "stream",
     "text": [
      "[1, 2, 3, 4, 5]\n"
     ]
    }
   ],
   "source": [
    "num = [1, 2, 3, 4, 5]\n",
    "print(num)"
   ]
  },
  {
   "cell_type": "markdown",
   "id": "14a05430-ca99-43ac-8e91-49ef48924ee8",
   "metadata": {},
   "source": [
    "7. Write a code to append the number 10 to the list [1, 2, 3, 4]."
   ]
  },
  {
   "cell_type": "code",
   "execution_count": 6,
   "id": "efbc17ee-eeec-4684-b9e3-175512b70cd4",
   "metadata": {},
   "outputs": [
    {
     "name": "stdout",
     "output_type": "stream",
     "text": [
      "[1, 2, 3, 4, 10]\n"
     ]
    }
   ],
   "source": [
    "my_list = [1, 2, 3, 4]\n",
    "my_list.append(10)\n",
    "print(my_list)"
   ]
  },
  {
   "cell_type": "markdown",
   "id": "d90177d4-16ad-4dbc-baa4-8806abff4a91",
   "metadata": {},
   "source": [
    "8. Write a code to remove the number 3 from the list [1, 2, 3, 4, 5]."
   ]
  },
  {
   "cell_type": "code",
   "execution_count": 7,
   "id": "0d9aa325-1aad-4b74-8cf1-503aa8adb5a8",
   "metadata": {},
   "outputs": [
    {
     "name": "stdout",
     "output_type": "stream",
     "text": [
      "[1, 2, 4, 5]\n"
     ]
    }
   ],
   "source": [
    "my_list = [1, 2, 3, 4, 5]\n",
    "my_list.remove(3)\n",
    "print(my_list)"
   ]
  },
  {
   "cell_type": "markdown",
   "id": "8107554b-e59a-4f8f-a88f-3af12d0a4693",
   "metadata": {},
   "source": [
    "9. Write a code to access the second element in the list ['a', 'b', 'c', 'd']."
   ]
  },
  {
   "cell_type": "code",
   "execution_count": 8,
   "id": "3a03b810-e929-4545-9f7f-92ccdbed4e24",
   "metadata": {},
   "outputs": [
    {
     "name": "stdout",
     "output_type": "stream",
     "text": [
      "b\n"
     ]
    }
   ],
   "source": [
    "my_list = ['a', 'b', 'c', 'd']\n",
    "second_element = my_list[1]\n",
    "print(second_element)"
   ]
  },
  {
   "cell_type": "markdown",
   "id": "53a981cb-2b4c-4018-9571-0c8ad9898a4f",
   "metadata": {},
   "source": [
    "10. Write a code to reverse the list [10, 20, 30, 40, 50]"
   ]
  },
  {
   "cell_type": "code",
   "execution_count": 9,
   "id": "1b786655-3460-49ae-a74c-8f9ec799adce",
   "metadata": {},
   "outputs": [
    {
     "data": {
      "text/plain": [
       "[50, 40, 30, 20, 10]"
      ]
     },
     "execution_count": 9,
     "metadata": {},
     "output_type": "execute_result"
    }
   ],
   "source": [
    "my_list = [10, 20, 30, 40, 50]\n",
    "my_list[::-1]"
   ]
  },
  {
   "cell_type": "markdown",
   "id": "8d6d3d00-4a40-4c79-800e-0b95a5d40ecc",
   "metadata": {},
   "source": [
    "11. Create and print a tuple."
   ]
  },
  {
   "cell_type": "code",
   "execution_count": 10,
   "id": "9a5cbb7f-49a7-4204-927e-63413e08a5d5",
   "metadata": {},
   "outputs": [
    {
     "name": "stdout",
     "output_type": "stream",
     "text": [
      "(100, 200, 300)\n"
     ]
    }
   ],
   "source": [
    "my_tuple = (100, 200, 300)\n",
    "print(my_tuple)"
   ]
  },
  {
   "cell_type": "markdown",
   "id": "e1c82687-82bf-483c-b97a-670d886f9801",
   "metadata": {},
   "source": [
    "12. Access the second-to-last element of a tuple."
   ]
  },
  {
   "cell_type": "code",
   "execution_count": 11,
   "id": "bac2e798-04ca-4d83-97d3-0e9c317a8b70",
   "metadata": {},
   "outputs": [
    {
     "name": "stdout",
     "output_type": "stream",
     "text": [
      "blue\n"
     ]
    }
   ],
   "source": [
    "my_tuple = ('red', 'green', 'blue', 'yellow')\n",
    "element = my_tuple[-2]\n",
    "print(element)"
   ]
  },
  {
   "cell_type": "markdown",
   "id": "b518376b-8db4-4dad-a3a3-e38498efe83b",
   "metadata": {},
   "source": [
    "13. Find the minimum number in a tuple."
   ]
  },
  {
   "cell_type": "code",
   "execution_count": 12,
   "id": "0b1286e9-c1a1-4e62-80a6-3d76367cdb38",
   "metadata": {},
   "outputs": [
    {
     "name": "stdout",
     "output_type": "stream",
     "text": [
      "5\n"
     ]
    }
   ],
   "source": [
    "tuple = (10, 20, 5, 15)\n",
    "min_num = min(tuple)\n",
    "print(min_num)"
   ]
  },
  {
   "cell_type": "markdown",
   "id": "8dff00a4-7d6b-4f31-8631-150ae9cbe59f",
   "metadata": {},
   "source": [
    "14. Find the index of an element in a tuple."
   ]
  },
  {
   "cell_type": "code",
   "execution_count": 13,
   "id": "4537a713-7b69-41c8-822a-0b86309c9f67",
   "metadata": {},
   "outputs": [
    {
     "name": "stdout",
     "output_type": "stream",
     "text": [
      "1\n"
     ]
    }
   ],
   "source": [
    "my_tuple = ('dog', 'cat', 'rabbit')\n",
    "index = my_tuple.index('cat')\n",
    "print(index)"
   ]
  },
  {
   "cell_type": "markdown",
   "id": "d438d9b5-4c34-4dab-932a-9a8604b8d17c",
   "metadata": {},
   "source": [
    "15. Check for an element in a tuple."
   ]
  },
  {
   "cell_type": "code",
   "execution_count": 14,
   "id": "64c6f170-06d8-43da-a5bc-3928702dcd3a",
   "metadata": {},
   "outputs": [
    {
     "name": "stdout",
     "output_type": "stream",
     "text": [
      "False\n"
     ]
    }
   ],
   "source": [
    "fruits = ('apple', 'banana', 'orange')\n",
    "is_present = 'pineapple' in fruits\n",
    "print(is_present)"
   ]
  },
  {
   "cell_type": "markdown",
   "id": "2f59beb5-8fbd-4679-91cd-644b1d8df913",
   "metadata": {},
   "source": [
    "16. Create and print a set."
   ]
  },
  {
   "cell_type": "code",
   "execution_count": 15,
   "id": "04497ead-15dd-4880-811a-e4cf8b610b3e",
   "metadata": {},
   "outputs": [
    {
     "name": "stdout",
     "output_type": "stream",
     "text": [
      "{'b', 'c', 'a'}\n"
     ]
    }
   ],
   "source": [
    "my_set = {'a', 'b', 'c'}\n",
    "print(my_set)"
   ]
  },
  {
   "cell_type": "markdown",
   "id": "4ea90931-f121-4da5-8ba1-635230b6f2bb",
   "metadata": {},
   "source": [
    "17. Clear all elements from a set."
   ]
  },
  {
   "cell_type": "code",
   "execution_count": 16,
   "id": "2927ca9f-0b8e-4bb5-b3b9-ba248eb126aa",
   "metadata": {},
   "outputs": [
    {
     "name": "stdout",
     "output_type": "stream",
     "text": [
      "set()\n"
     ]
    }
   ],
   "source": [
    "my_set = {1, 2, 3, 4, 5}\n",
    "my_set.clear()\n",
    "print(my_set)"
   ]
  },
  {
   "cell_type": "markdown",
   "id": "c8f862bf-e360-4000-87b9-1e0814343390",
   "metadata": {},
   "source": [
    "18. Remove an element from a set."
   ]
  },
  {
   "cell_type": "code",
   "execution_count": 17,
   "id": "bd969137-0602-4798-9c81-44fc0a85d806",
   "metadata": {},
   "outputs": [
    {
     "name": "stdout",
     "output_type": "stream",
     "text": [
      "{1, 2, 3}\n"
     ]
    }
   ],
   "source": [
    "my_set = {1, 2, 3, 4}\n",
    "my_set.remove(4)\n",
    "print(my_set)"
   ]
  },
  {
   "cell_type": "markdown",
   "id": "62a4d2f2-85e5-4267-aafc-597cbacb491c",
   "metadata": {},
   "source": [
    "19. Find the union of two sets."
   ]
  },
  {
   "cell_type": "code",
   "execution_count": 18,
   "id": "37dcc005-5521-4d2d-9ee6-458a58c256c1",
   "metadata": {},
   "outputs": [
    {
     "name": "stdout",
     "output_type": "stream",
     "text": [
      "{1, 2, 3, 4, 5}\n"
     ]
    }
   ],
   "source": [
    "set1 = {1, 2, 3}\n",
    "set2 = {3, 4, 5}\n",
    "union_set = set1.union(set2)\n",
    "print(union_set)"
   ]
  },
  {
   "cell_type": "markdown",
   "id": "5bcdf5cb-e17c-4d8a-afb1-61c9cce1b9b6",
   "metadata": {},
   "source": [
    "20. Find the intersection of two sets."
   ]
  },
  {
   "cell_type": "code",
   "execution_count": 19,
   "id": "ce702c89-4e97-4bc4-a1b1-2c142210fe61",
   "metadata": {},
   "outputs": [
    {
     "name": "stdout",
     "output_type": "stream",
     "text": [
      "{2, 3}\n"
     ]
    }
   ],
   "source": [
    "set1 = {1, 2, 3}\n",
    "set2 = {2, 3, 4}\n",
    "intersection_set = set1.intersection(set2)\n",
    "print(intersection_set)"
   ]
  },
  {
   "cell_type": "markdown",
   "id": "5e8bfe0b-7b0b-4e2c-896b-45abc607e637",
   "metadata": {},
   "source": [
    "21. Create and print a dictionary."
   ]
  },
  {
   "cell_type": "code",
   "execution_count": 20,
   "id": "c699bcba-6569-484e-b7b7-a911503a8710",
   "metadata": {},
   "outputs": [
    {
     "name": "stdout",
     "output_type": "stream",
     "text": [
      "{'name': 'Sharanyaa', 'age': 21, 'address': 'Chennai'}\n"
     ]
    }
   ],
   "source": [
    "my_dict = {\"name\": \"Sharanyaa\", \"age\": 21, \"address\": \"Chennai\"}\n",
    "print(my_dict)"
   ]
  },
  {
   "cell_type": "markdown",
   "id": "5e62bfc5-ed04-449f-b4c8-adceba08aabe",
   "metadata": {},
   "source": [
    "22. Add a new key-value pair to a dictionary."
   ]
  },
  {
   "cell_type": "code",
   "execution_count": 21,
   "id": "6530716d-0f19-4afa-8f9e-36794e97a427",
   "metadata": {},
   "outputs": [
    {
     "name": "stdout",
     "output_type": "stream",
     "text": [
      "{'fruit': 'Apple', 'Vegetable': 'Onion', 'Spice': 'Chilli'}\n"
     ]
    }
   ],
   "source": [
    "my_dict = {'fruit': 'Apple', 'Vegetable': 'Onion'}\n",
    "my_dict['Spice'] = 'Chilli'\n",
    "print(my_dict)"
   ]
  },
  {
   "cell_type": "markdown",
   "id": "9291cba4-4b7a-453b-8218-e10c89d88356",
   "metadata": {},
   "source": [
    "23. Access a value in a dictionary."
   ]
  },
  {
   "cell_type": "code",
   "execution_count": 22,
   "id": "fcb4a529-1039-4410-89fe-d2c58386eaea",
   "metadata": {},
   "outputs": [
    {
     "name": "stdout",
     "output_type": "stream",
     "text": [
      "Alice\n"
     ]
    }
   ],
   "source": [
    "my_dict = {'name': 'Alice', 'age': 30}\n",
    "name_value = my_dict['name']\n",
    "print(name_value)"
   ]
  },
  {
   "cell_type": "markdown",
   "id": "c3b1057d-c533-434c-bef9-8639b86a14b1",
   "metadata": {},
   "source": [
    "24. Remove a key from a dictionary."
   ]
  },
  {
   "cell_type": "code",
   "execution_count": 23,
   "id": "08ff2e52-6161-4867-987c-284384d9b818",
   "metadata": {},
   "outputs": [
    {
     "name": "stdout",
     "output_type": "stream",
     "text": [
      "{'name': 'Bob', 'city': 'New York'}\n"
     ]
    }
   ],
   "source": [
    "my_dict = {'name': 'Bob', 'age': 22, 'city': 'New York'}\n",
    "del my_dict['age']\n",
    "print(my_dict)"
   ]
  },
  {
   "cell_type": "markdown",
   "id": "92c4b9dd-5059-4c16-bdf1-556bf5335ddd",
   "metadata": {},
   "source": [
    "25. Check if a key exists in a dictionary"
   ]
  },
  {
   "cell_type": "code",
   "execution_count": 24,
   "id": "b5105a58-8826-4cbb-9b14-c9a104405faf",
   "metadata": {},
   "outputs": [
    {
     "name": "stdout",
     "output_type": "stream",
     "text": [
      "True\n"
     ]
    }
   ],
   "source": [
    "my_dict = {'name': 'Alice', 'city': 'Paris'}\n",
    "key_exists = 'city' in my_dict\n",
    "print(key_exists)"
   ]
  },
  {
   "cell_type": "markdown",
   "id": "d3924a37-77c4-4697-9b6a-4021fce9731f",
   "metadata": {},
   "source": [
    "26. Create and print a list, a tuple, and a dictionary\n",
    "    "
   ]
  },
  {
   "cell_type": "code",
   "execution_count": 25,
   "id": "fb43159e-c645-46f1-9583-9bd726bf66c9",
   "metadata": {},
   "outputs": [
    {
     "name": "stdout",
     "output_type": "stream",
     "text": [
      "List: [1, 2, 3]\n",
      "Tuple: (4, 5, 6)\n",
      "Dictionary: {'a': 7, 'b': 8}\n"
     ]
    }
   ],
   "source": [
    "my_list = [1, 2, 3]\n",
    "my_tuple = (4, 5, 6)\n",
    "my_dict = {'a': 7, 'b': 8}\n",
    "\n",
    "print(\"List:\", my_list)\n",
    "print(\"Tuple:\", my_tuple)\n",
    "print(\"Dictionary:\", my_dict)"
   ]
  },
  {
   "cell_type": "markdown",
   "id": "e52521fa-8546-43be-afa4-3bdcd155e10e",
   "metadata": {},
   "source": [
    "27. Create a list of random numbers, sort it, and print."
   ]
  },
  {
   "cell_type": "code",
   "execution_count": 26,
   "id": "8cd28da7-ab20-4970-8d1c-d6912bd640c0",
   "metadata": {},
   "outputs": [
    {
     "name": "stdout",
     "output_type": "stream",
     "text": [
      "[46, 54, 82, 94, 100]\n"
     ]
    }
   ],
   "source": [
    "import random\n",
    "\n",
    "random_numbers = [random.randint(1, 100) for _ in range(5)]\n",
    "random_numbers.sort()\n",
    "print(random_numbers)"
   ]
  },
  {
   "cell_type": "markdown",
   "id": "9f685a82-9294-4f12-a429-610298a57d5e",
   "metadata": {},
   "source": [
    "28. Create a list of strings and print the element at the third index."
   ]
  },
  {
   "cell_type": "code",
   "execution_count": 27,
   "id": "f3102785-1cd0-4e98-9a7d-b68da1514c9c",
   "metadata": {},
   "outputs": [
    {
     "name": "stdout",
     "output_type": "stream",
     "text": [
      "date\n"
     ]
    }
   ],
   "source": [
    "my_list = ['apple', 'banana', 'cherry', 'date', 'elderberry']\n",
    "third_element = my_list[3]\n",
    "print(third_element)"
   ]
  },
  {
   "cell_type": "markdown",
   "id": "95313abc-95e4-4a1a-85c2-36b27f122379",
   "metadata": {},
   "source": [
    "29. Combine two dictionaries."
   ]
  },
  {
   "cell_type": "code",
   "execution_count": 28,
   "id": "422e5c14-0dc5-4d3a-8758-d89a067f3888",
   "metadata": {},
   "outputs": [
    {
     "name": "stdout",
     "output_type": "stream",
     "text": [
      "{'name': 'John', 'age': 30, 'city': 'New York', 'country': 'USA'}\n"
     ]
    }
   ],
   "source": [
    "dict1 = {'name': 'John', 'age': 30}\n",
    "dict2 = {'city': 'New York', 'country': 'USA'}\n",
    "combined_dict = {**dict1, **dict2}\n",
    "print(combined_dict)"
   ]
  },
  {
   "cell_type": "markdown",
   "id": "55847fe7-5fc1-4484-b1df-223077838022",
   "metadata": {},
   "source": [
    "30. Convert a list of strings into a set."
   ]
  },
  {
   "cell_type": "code",
   "execution_count": 29,
   "id": "80583651-0c04-49c0-8d64-c602400693c0",
   "metadata": {},
   "outputs": [
    {
     "name": "stdout",
     "output_type": "stream",
     "text": [
      "{'blue', 'green', 'red'}\n"
     ]
    }
   ],
   "source": [
    "my_list = ['red', 'green', 'blue', 'red', 'green']\n",
    "unique_colors = set(my_list)\n",
    "print(unique_colors)"
   ]
  },
  {
   "cell_type": "code",
   "execution_count": null,
   "id": "068fbb26-c490-4cd9-a69a-56ca774e76f6",
   "metadata": {},
   "outputs": [],
   "source": []
  }
 ],
 "metadata": {
  "kernelspec": {
   "display_name": "Python 3 (ipykernel)",
   "language": "python",
   "name": "python3"
  },
  "language_info": {
   "codemirror_mode": {
    "name": "ipython",
    "version": 3
   },
   "file_extension": ".py",
   "mimetype": "text/x-python",
   "name": "python",
   "nbconvert_exporter": "python",
   "pygments_lexer": "ipython3",
   "version": "3.11.7"
  }
 },
 "nbformat": 4,
 "nbformat_minor": 5
}
