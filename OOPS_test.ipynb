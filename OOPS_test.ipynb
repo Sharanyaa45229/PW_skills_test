{
 "cells": [
  {
   "cell_type": "markdown",
   "id": "43f36be6-39b1-44a2-a3c5-dfa2e6595401",
   "metadata": {},
   "source": [
    "# Python OOPs Questions"
   ]
  },
  {
   "cell_type": "markdown",
   "id": "0ffa2cbc-48cf-4a78-b838-7efca309231b",
   "metadata": {},
   "source": [
    "1.What is Object-Oriented Programming (OOP)?\n",
    "\n",
    "Object-Oriented Programming (OOP) is a programming paradigm based on the concept of \"objects,\" which can contain both data (attributes) and code (methods). The main goal of OOP is to model real-world entities into code by creating reusable objects. This approach helps manage complexity, improves code organization, and promotes reusability.\n",
    "\n",
    "2.What is a class in OOP?\n",
    "\n",
    "A class is a blueprint or a template for creating objects. It defines the properties (attributes) and behaviors (methods) that all objects of a particular type will have. Think of a class as the design for a house: it specifies how many rooms, windows, and doors it will have, but it's not the actual house itself. For example, you can have a Car class that defines attributes like color and make and methods like start_engine and drive.\n",
    "\n",
    "3.What is an object in OOP?\n",
    "\n",
    "An object is an instance of a class. It's a concrete entity created from the class blueprint. Using the house analogy, an object is an actual, physical house built from the house design (the class). Each object has its own unique set of data for the attributes defined in the class. For example, my_car = Car('red', 'Toyota') creates an object named my_car from the Car class.\n",
    "\n",
    "4.What is the difference between abstraction and encapsulation?\n",
    "\n",
    "Abstraction focuses on showing only the essential features of an object while hiding its complex, internal details. It's about \"what\" an object does, not \"how\" it does it. For example, when you use a car's accelerator pedal, you don't need to know the intricate mechanics of how the fuel injection system works.\n",
    "\n",
    "Encapsulation is the process of bundling an object's data (attributes) and the methods that operate on that data into a single unit (the class). It also controls access to the data, protecting it from outside interference. It's the \"how\" of abstraction—it's the mechanism that hides the internal implementation.\n",
    "\n",
    "In simple terms, abstraction is the concept (hiding complexity), and encapsulation is the technique (bundling data and methods and controlling access).\n",
    "\n",
    "5.What are dunder methods in Python?\n",
    "\n",
    "Dunder methods, also known as \"magic methods,\" are special methods in Python that have double underscores __ at the beginning and end of their names (e.g., __init__, __str__). They are not meant to be called directly but are automatically invoked by Python in response to specific operations, such as creating an object, adding two numbers, or converting an object to a string. They allow you to define how your objects behave with built-in functions and operators.\n",
    "\n",
    "6.Explain the concept of inheritance in OOP.\n",
    "\n",
    "Inheritance is a core principle of OOP that allows a new class (child class or subclass) to inherit properties and behaviors (attributes and methods) from an existing class (parent class or superclass). This creates a \"is-a\" relationship (e.g., a Dog is an Animal). Inheritance promotes code reuse, as you don't have to rewrite the same code for similar classes. The child class can also add new methods or override existing ones to specialize its behavior.\n",
    "\n",
    "7.What is polymorphism in OOP?\n",
    "\n",
    "Polymorphism means \"many forms.\" In OOP, it allows objects of different classes to be treated as objects of a common superclass. This means you can use a single interface to represent different underlying forms (data types). For example, you could have a speak() method in a Dog class and a speak() method in a Cat class, both of which inherit from an Animal class. Even though the methods have the same name, they perform different actions (barking vs. meowing), but can be called uniformly on a collection of Animal objects.\n",
    "\n",
    "8.How is encapsulation achieved in Python?\n",
    "\n",
    "Python does not have true private access modifiers like some other languages (e.g., public, private). Instead, encapsulation is achieved through a convention of using underscores:\n",
    "\n",
    "Single leading underscore (_name): This is a convention to indicate that a variable or method is intended for internal use only and should not be accessed from outside the class. It's a hint to other developers, but it doesn't prevent access.\n",
    "\n",
    "Double leading underscore (__name): This triggers Python's name mangling mechanism, which changes the name of the attribute (_ClassName__name). This makes it harder, but not impossible, to access the attribute from outside the class, effectively making it \"pseudo-private.\"\n",
    "\n",
    "9.What is a constructor in Python?\n",
    "A constructor is a special method used to initialize an object's state when it is created. In Python, the constructor is the __init__ dunder method. It's called automatically when a new object is instantiated from a class. The __init__ method takes self as its first argument, which refers to the newly created object, and can take other arguments to set the initial values of the object's attributes.\n",
    "\n",
    "10.What are class and static methods in Python?\n",
    "\n",
    "Class methods (@classmethod) are methods that are bound to the class, not to an instance of the class. They receive the class itself as the first argument, conventionally named cls. They are often used to create factory methods that return an instance of the class in a different way, or to modify class state that applies to all instances.\n",
    "\n",
    "Static methods (@staticmethod) are methods that are not tied to either an instance or a class. They do not receive self or cls as their first argument. They are essentially regular functions that are logically grouped within a class, often because they have a relationship to the class's purpose but don't need to access its state.\n",
    "\n",
    "11.What is method overloading in Python?\n",
    "\n",
    "Method overloading is the ability to define multiple methods within the same class with the same name but with different numbers or types of parameters. Python does not support classic method overloading in the way languages like C++ or Java do. If you define a method with the same name twice in a class, the second definition will simply override the first. You can, however, achieve similar functionality using default arguments or variable-length arguments (*args, **kwargs).\n",
    "\n",
    "12.What is method overriding in OOP?\n",
    "\n",
    "Method overriding is a key feature of inheritance that allows a child class to provide a specific implementation for a method that is already defined in its parent class. This enables the child class to customize or extend the behavior of the inherited method while keeping the same method signature (name and parameters). For example, a Cat class can override the speak() method from the Animal class to make a \"meow\" sound instead of a general \"speak.\"\n",
    "\n",
    "13.What is a property decorator in Python?\n",
    "\n",
    "The @property decorator is a built-in Python decorator that provides a Pythonic way to use getters and setters. It allows you to define methods that behave like attributes. This means you can access a method's return value using dot notation (obj.attribute) instead of parentheses (obj.method()). It's commonly used to add validation or other logic to attribute access while maintaining a simple, attribute-like syntax.\n",
    "\n",
    "14.Why is polymorphism important in OOP?\n",
    "\n",
    "Polymorphism is crucial because it promotes code flexibility and reusability. It allows you to write generic, flexible code that can work with different types of objects without needing to know their specific types at compile time. This leads to cleaner, more maintainable code and simplifies the design of large-scale applications. For example, a function that takes a list of Animal objects and calls speak() on each one can handle a mix of Dog, Cat, and other Animal subclasses without needing conditional logic.\n",
    "\n",
    "15.What is an abstract class in Python?\n",
    "\n",
    "An abstract class is a class that cannot be instantiated on its own and is designed to be a blueprint for other classes. It defines one or more abstract methods, which are methods without an implementation. Child classes must provide an implementation for these abstract methods. In Python, you can create abstract classes using the abc (Abstract Base Classes) module and the @abstractmethod decorator. Abstract classes enforce a contract on their subclasses, ensuring they implement a specific set of methods.\n",
    "\n",
    "16.What are the advantages of OOP?\n",
    "\n",
    "Modularity: Objects are self-contained units, making it easier to manage and debug complex systems.\n",
    "\n",
    "Reusability: Inheritance and composition allow you to reuse code, saving time and effort.\n",
    "\n",
    "Flexibility (Polymorphism): Code can be written to handle objects of different types, making it more flexible.\n",
    "\n",
    "Maintainability: Encapsulation and abstraction make it easier to modify and maintain code without affecting other parts of the system.\n",
    "\n",
    "Scalability: The modular design of OOP makes it easier to add new features and functionality to a program.\n",
    "\n",
    "17.What is the difference between a class variable and an instance variable?\n",
    "\n",
    "A class variable is a variable that is shared by all instances of a class. It's defined within the class but outside any methods. All objects created from the class will have access to and can potentially modify the same class variable.\n",
    "\n",
    "An instance variable is a variable that is unique to each instance of a class. It's defined within a method, usually the __init__ constructor, using self. Each object has its own copy of the instance variable, and changes to it won't affect other objects.\n",
    "\n",
    "18.What is multiple inheritance in Python?\n",
    "\n",
    "Multiple inheritance is a feature of Python that allows a class to inherit from more than one parent class. This means a child class can inherit attributes and methods from multiple superclasses, combining their functionalities. While powerful, it can lead to complex class hierarchies and potential issues like the \"diamond problem,\" where a method is inherited from two different parent classes that share a common ancestor. Python uses the Method Resolution Order (MRO) to handle the lookup order for methods and attributes in such cases.\n",
    "\n",
    "19.Explain the purpose of __str__ and __repr__ methods in Python.\n",
    "\n",
    "__str__ is a dunder method used to provide a \"user-friendly\" string representation of an object. It's typically called by the print() function and str() built-in. Its purpose is to be readable and informative for the end-user.\n",
    "\n",
    "__repr__ is a dunder method that provides a developer-friendly, unambiguous string representation of an object. It's the \"official\" representation and should ideally be an expression that can be used to recreate the object. It's called by the repr() built-in and is the fallback for __str__ if __str__ is not defined.\n",
    "\n",
    "In short: __str__ is for humans, and __repr__ is for developers.\n",
    "\n",
    "20.What is the significance of the super() function in Python?\n",
    "\n",
    "The super() function is used to call a method from the parent class. Its primary use is in a child class's __init__ method to ensure the parent class's constructor is called and its attributes are properly initialized. It's also used to access overridden methods from the parent class. super() simplifies inheritance and ensures that the Method Resolution Order (MRO) is followed correctly when a method is called.\n",
    "\n",
    "21.What is the significance of the __del__ method in Python?\n",
    "\n",
    "The __del__ method, also known as the destructor, is a dunder method that is called when an object is about to be \"destroyed\" or garbage collected. Its purpose is to perform cleanup operations, such as closing a file or a database connection, freeing up resources held by the object. However, its use is generally discouraged because Python's garbage collector's timing is unpredictable, and there's no guarantee when or even if __del__ will be called. Using try-finally blocks or context managers (with statement) is a more reliable way to manage resources.\n",
    "\n",
    "22.What is the difference between @staticmethod and @classmethod in Python?\n",
    "\n",
    "@staticmethod doesn't receive the instance (self) or the class (cls) as its first argument. It's a regular function that lives inside a class namespace. It can't access or modify the state of the instance or the class.\n",
    "\n",
    "@classmethod receives the class (cls) as its first argument. It can access and modify class-level state (class variables) and is often used as a factory method to create instances of the class.\n",
    "\n",
    "In essence, a static method is a standalone function logically placed within a class, while a class method is designed to operate on the class itself.\n",
    "\n",
    "23.How does polymorphism work in Python with inheritance?\n",
    "\n",
    "Polymorphism in Python with inheritance relies on dynamic typing and method overriding. If you have a superclass and several subclasses that all override the same method, you can write a function that takes an object of the superclass type. When you call the overridden method on that object, Python's runtime determines the actual type of the object and executes the correct method from the specific subclass. This allows for a uniform interface to be used for different data types.\n",
    "\n",
    "24.What is method chaining in Python OOP?\n",
    "\n",
    "Method chaining, or fluent interface, is a programming technique where multiple method calls are strung together in a single statement. It's achieved by having each method return the object (self) on which it was called. This allows for a more concise and readable syntax, as you can perform a series of operations on an object without needing a separate line for each call. It's common in builder patterns and ORMs.\n",
    "\n",
    "25.What is the purpose of the __call__ method in Python?\n",
    "\n",
    "The __call__ method is a dunder method that allows an object to be called like a function. If you define a __call__ method in a class, you can create an instance of that class and then invoke it using parentheses, just like a function. This is useful for creating objects that act as \"callable\" stateful functions, such as closures or decorators that maintain state."
   ]
  },
  {
   "cell_type": "markdown",
   "id": "332feada-28ab-4923-8a27-15e539ef602c",
   "metadata": {},
   "source": [
    "# Practical Questions"
   ]
  },
  {
   "cell_type": "markdown",
   "id": "6bbf8389-9bf1-4528-8cb5-8788a7ee2c65",
   "metadata": {},
   "source": [
    "1. Create a parent class Animal with a method speak() that prints a generic message. Create a child class Dog\r\n",
    "that overrides the speak() method to print \"Bark!\"."
   ]
  },
  {
   "cell_type": "code",
   "execution_count": 26,
   "id": "5701bc58-8242-4b64-9632-a0b62a78c874",
   "metadata": {},
   "outputs": [
    {
     "name": "stdout",
     "output_type": "stream",
     "text": [
      "This animal makes a sound.\n",
      "Bark!\n",
      "\n",
      "\n"
     ]
    }
   ],
   "source": [
    "class Animal:\n",
    "    \"\"\"A parent class for all animals.\"\"\"\n",
    "    def speak(self):\n",
    "        \"\"\"Prints a generic message.\"\"\"\n",
    "        print(\"This animal makes a sound.\")\n",
    "\n",
    "class Dog(Animal):\n",
    "    \"\"\"A child class that inherits from Animal.\"\"\"\n",
    "    def speak(self):\n",
    "        \"\"\"Overrides the speak method to make a specific sound.\"\"\"\n",
    "        print(\"Bark!\")\n",
    "\n",
    "\n",
    "generic_animal = Animal()\n",
    "generic_animal.speak()\n",
    "my_dog = Dog()\n",
    "my_dog.speak()\n",
    "print(\"\\n\")"
   ]
  },
  {
   "cell_type": "markdown",
   "id": "3c868bb3-5e00-40a8-b726-f5b17d0d4e39",
   "metadata": {},
   "source": [
    "2. Write a program to create an abstract class Shape with a method area(). Derive classes Circle and Rectangle\r\n",
    "from it and implement the area() method in both."
   ]
  },
  {
   "cell_type": "code",
   "execution_count": 27,
   "id": "8db979b9-8506-4071-b538-2a042bcc3859",
   "metadata": {},
   "outputs": [
    {
     "name": "stdout",
     "output_type": "stream",
     "text": [
      "Area of the circle: 78.54\n",
      "Area of the rectangle: 24\n",
      "\n",
      "\n"
     ]
    }
   ],
   "source": [
    "from abc import ABC, abstractmethod\n",
    "import math\n",
    "\n",
    "class Shape(ABC):\n",
    "    \"\"\"An abstract base class for all shapes.\"\"\"\n",
    "    @abstractmethod\n",
    "    def area(self):\n",
    "        \"\"\"Abstract method to be implemented by subclasses.\"\"\"\n",
    "        pass\n",
    "\n",
    "class Circle(Shape):\n",
    "    \"\"\"A class representing a circle, derived from Shape.\"\"\"\n",
    "    def __init__(self, radius):\n",
    "        self.radius = radius\n",
    "\n",
    "    def area(self):\n",
    "        \"\"\"Calculates the area of the circle.\"\"\"\n",
    "        return math.pi * self.radius ** 2\n",
    "\n",
    "class Rectangle(Shape):\n",
    "    \"\"\"A class representing a rectangle, derived from Shape.\"\"\"\n",
    "    def __init__(self, length, width):\n",
    "        self.length = length\n",
    "        self.width = width\n",
    "\n",
    "    def area(self):\n",
    "        \"\"\"Calculates the area of the rectangle.\"\"\"\n",
    "        return self.length * self.width\n",
    "\n",
    "\n",
    "circle = Circle(5)\n",
    "rectangle = Rectangle(4, 6)\n",
    "print(f\"Area of the circle: {circle.area():.2f}\")\n",
    "print(f\"Area of the rectangle: {rectangle.area()}\")\n",
    "print(\"\\n\")"
   ]
  },
  {
   "cell_type": "markdown",
   "id": "4ad01781-1973-4adc-84d6-11f642100e6b",
   "metadata": {},
   "source": [
    "3. Implement a multi-level inheritance scenario where a class Vehicle has an attribute type. Derive a class Car\r\n",
    "and further derive a class ElectricCar that adds a battery attribute."
   ]
  },
  {
   "cell_type": "code",
   "execution_count": 4,
   "id": "b3bd6179-980f-4b17-a6ad-0dee2e20a3d0",
   "metadata": {},
   "outputs": [
    {
     "name": "stdout",
     "output_type": "stream",
     "text": [
      "Vehicle of type 'Car' created.\n",
      "Car of make 'Tesla' created.\n",
      "Electric car with battery capacity '100 kWh' created.\n",
      "\n",
      "\n"
     ]
    }
   ],
   "source": [
    "class Vehicle:\n",
    "    \"\"\"A base class for all vehicles.\"\"\"\n",
    "    def __init__(self, vehicle_type):\n",
    "        self.type = vehicle_type\n",
    "        print(f\"Vehicle of type '{self.type}' created.\")\n",
    "\n",
    "class Car(Vehicle):\n",
    "    \"\"\"A class representing a car, inheriting from Vehicle.\"\"\"\n",
    "    def __init__(self, make):\n",
    "        super().__init__(\"Car\")\n",
    "        self.make = make\n",
    "        print(f\"Car of make '{self.make}' created.\")\n",
    "\n",
    "class ElectricCar(Car):\n",
    "    \"\"\"A class representing an electric car, inheriting from Car.\"\"\"\n",
    "    def __init__(self, make, battery_capacity):\n",
    "        super().__init__(make)\n",
    "        self.battery = battery_capacity\n",
    "        print(f\"Electric car with battery capacity '{self.battery} kWh' created.\")\n",
    "\n",
    "\n",
    "my_electric_car = ElectricCar(\"Tesla\", 100)\n",
    "print(\"\\n\")"
   ]
  },
  {
   "cell_type": "markdown",
   "id": "3bb89698-47c7-4cac-a75d-19c3efe7a8cf",
   "metadata": {},
   "source": [
    "4. Demonstrate polymorphism by creating a base class Bird with a method fly(). Create two derived classes\r\n",
    "Sparrow and Penguin that override the fly() method.\r\n",
    "\r\n",
    "\r"
   ]
  },
  {
   "cell_type": "code",
   "execution_count": 5,
   "id": "4acae01f-203d-4e1e-9197-ef6b49cc0fba",
   "metadata": {},
   "outputs": [
    {
     "name": "stdout",
     "output_type": "stream",
     "text": [
      "The sparrow is flying high in the sky!\n",
      "The penguin cannot fly, but it can swim very well!\n",
      "\n",
      "\n"
     ]
    }
   ],
   "source": [
    "class Bird:\n",
    "    \"\"\"A base class for birds.\"\"\"\n",
    "    def fly(self):\n",
    "        \"\"\"Generic method for flying.\"\"\"\n",
    "        print(\"This bird can fly.\")\n",
    "\n",
    "class Sparrow(Bird):\n",
    "    \"\"\"A class for a sparrow, which can fly.\"\"\"\n",
    "    def fly(self):\n",
    "        \"\"\"Overrides the fly method for a sparrow.\"\"\"\n",
    "        print(\"The sparrow is flying high in the sky!\")\n",
    "\n",
    "class Penguin(Bird):\n",
    "    \"\"\"A class for a penguin, which cannot fly.\"\"\"\n",
    "    def fly(self):\n",
    "        \"\"\"Overrides the fly method for a penguin.\"\"\"\n",
    "        print(\"The penguin cannot fly, but it can swim very well!\")\n",
    "\n",
    "\n",
    "def make_bird_fly(bird):\n",
    "    \"\"\"A polymorphic function that takes any Bird object.\"\"\"\n",
    "    bird.fly()\n",
    "\n",
    "sparrow = Sparrow()\n",
    "penguin = Penguin()\n",
    "\n",
    "make_bird_fly(sparrow)\n",
    "make_bird_fly(penguin)\n",
    "print(\"\\n\")"
   ]
  },
  {
   "cell_type": "markdown",
   "id": "41569ea2-7e97-461f-aa6e-6e80980898a9",
   "metadata": {},
   "source": [
    "5. Write a program to demonstrate encapsulation by creating a class BankAccount with private attributes\r\n",
    "balance and methods to deposit, withdraw, and check balance."
   ]
  },
  {
   "cell_type": "code",
   "execution_count": 25,
   "id": "917fb4d1-25a5-46fb-9c58-5a06fdf51f97",
   "metadata": {},
   "outputs": [
    {
     "name": "stdout",
     "output_type": "stream",
     "text": [
      "Current balance: 100\n",
      "Deposited 50. New balance: 150\n",
      "Withdrew 20. New balance: 130\n",
      "Invalid withdrawal amount or insufficient funds.\n"
     ]
    }
   ],
   "source": [
    "class BankAccount:\n",
    "    \"\"\"A class demonstrating encapsulation with a private balance.\"\"\"\n",
    "    def __init__(self, initial_balance=0):\n",
    "        # The double underscore makes this attribute pseudo-private due to name mangling.\n",
    "        self.__balance = initial_balance\n",
    "\n",
    "    def deposit(self, amount):\n",
    "        \"\"\"Deposits a positive amount into the account.\"\"\"\n",
    "        if amount > 0:\n",
    "            self.__balance += amount\n",
    "            print(f\"Deposited {amount}. New balance: {self.__balance}\")\n",
    "        else:\n",
    "            print(\"Deposit amount must be positive.\")\n",
    "\n",
    "    def withdraw(self, amount):\n",
    "        \"\"\"Withdraws a positive amount if funds are available.\"\"\"\n",
    "        if 0 < amount <= self.__balance:\n",
    "            self.__balance -= amount\n",
    "            print(f\"Withdrew {amount}. New balance: {self.__balance}\")\n",
    "        else:\n",
    "            print(\"Invalid withdrawal amount or insufficient funds.\")\n",
    "\n",
    "    def check_balance(self):\n",
    "        \"\"\"Checks and prints the current balance.\"\"\"\n",
    "        print(f\"Current balance: {self.__balance}\")\n",
    "\n",
    "\n",
    "account = BankAccount(100)\n",
    "account.check_balance()\n",
    "account.deposit(50)\n",
    "account.withdraw(20)\n",
    "account.withdraw(200) \n",
    "\n"
   ]
  },
  {
   "cell_type": "markdown",
   "id": "41b95af1-eef5-49d2-8b95-e0f4702594a5",
   "metadata": {},
   "source": [
    "6. Demonstrate runtime polymorphism using a method play() in a base class Instrument. Derive classes Guitar\r\n",
    "and Piano that implement their own version of play()."
   ]
  },
  {
   "cell_type": "code",
   "execution_count": 8,
   "id": "149fa27b-c906-4a9b-842e-df9151f0be4b",
   "metadata": {},
   "outputs": [
    {
     "name": "stdout",
     "output_type": "stream",
     "text": [
      "Strumming the guitar strings...\n",
      "Pressing the piano keys...\n",
      "\n",
      "\n"
     ]
    }
   ],
   "source": [
    "class Instrument:\n",
    "    \"\"\"Base class for musical instruments.\"\"\"\n",
    "    def play(self):\n",
    "        \"\"\"A generic play method.\"\"\"\n",
    "        print(\"The instrument is playing a sound.\")\n",
    "\n",
    "class Guitar(Instrument):\n",
    "    \"\"\"A derived class for a guitar.\"\"\"\n",
    "    def play(self):\n",
    "        \"\"\"Overrides play() for a guitar.\"\"\"\n",
    "        print(\"Strumming the guitar strings...\")\n",
    "\n",
    "class Piano(Instrument):\n",
    "    \"\"\"A derived class for a piano.\"\"\"\n",
    "    def play(self):\n",
    "        \"\"\"Overrides play() for a piano.\"\"\"\n",
    "        print(\"Pressing the piano keys...\")\n",
    "\n",
    "\n",
    "def make_it_play(instrument):\n",
    "    \"\"\"A function that demonstrates polymorphism.\"\"\"\n",
    "    instrument.play()\n",
    "\n",
    "my_guitar = Guitar()\n",
    "my_piano = Piano()\n",
    "\n",
    "make_it_play(my_guitar)\n",
    "make_it_play(my_piano)\n",
    "print(\"\\n\")\n"
   ]
  },
  {
   "cell_type": "markdown",
   "id": "98e4ccbe-68bc-4072-b658-593c636ced04",
   "metadata": {},
   "source": [
    "7. Create a class MathOperations with a class method add_numbers() to add two numbers and a static\r\n",
    "method subtract_numbers() to subtract two numbers."
   ]
  },
  {
   "cell_type": "code",
   "execution_count": 12,
   "id": "51bb2c60-fe94-40c6-a8f3-f57ed5b09dbd",
   "metadata": {},
   "outputs": [
    {
     "name": "stdout",
     "output_type": "stream",
     "text": [
      "Adding 10 and 5 using a class method.\n",
      "Sum: 15\n",
      "Subtracting 5 from 10 using a static method.\n",
      "Difference: 5\n",
      "\n",
      "\n"
     ]
    }
   ],
   "source": [
    "class MathOperations:\n",
    "    \"\"\"A class containing class and static methods for math operations.\"\"\"\n",
    "    @classmethod\n",
    "    def add_numbers(cls, a, b):\n",
    "        \"\"\"A class method to add two numbers.\"\"\"\n",
    "        print(f\"Adding {a} and {b} using a class method.\")\n",
    "        return a + b\n",
    "\n",
    "    @staticmethod\n",
    "    def subtract_numbers(a, b):\n",
    "        \"\"\"A static method to subtract two numbers.\"\"\"\n",
    "        print(f\"Subtracting {b} from {a} using a static method.\")\n",
    "        return a - b\n",
    "\n",
    "\n",
    "sum_result = MathOperations.add_numbers(10, 5)\n",
    "print(f\"Sum: {sum_result}\")\n",
    "diff_result = MathOperations.subtract_numbers(10, 5)\n",
    "print(f\"Difference: {diff_result}\")\n",
    "print(\"\\n\")"
   ]
  },
  {
   "cell_type": "markdown",
   "id": "c1d2bbea-dca1-41b4-ae4d-bde63b2bd54e",
   "metadata": {},
   "source": [
    "8. Implement a class Person with a class method to count the total number of persons created."
   ]
  },
  {
   "cell_type": "code",
   "execution_count": 14,
   "id": "bc2d1dc1-2749-43de-b523-799e9095e4a2",
   "metadata": {},
   "outputs": [
    {
     "name": "stdout",
     "output_type": "stream",
     "text": [
      "New person 'Alice' created. Total persons: 1\n",
      "New person 'Bob' created. Total persons: 2\n",
      "New person 'Charlie' created. Total persons: 3\n",
      "Total number of persons created: 3\n",
      "\n",
      "\n"
     ]
    }
   ],
   "source": [
    "class Person:\n",
    "    \"\"\"A class to count the number of instances created.\"\"\"\n",
    "    # Class variable to keep track of the count\n",
    "    count = 0\n",
    "\n",
    "    def __init__(self, name):\n",
    "        self.name = name\n",
    "        # Increment the class variable every time a new instance is created\n",
    "        Person.count += 1\n",
    "        print(f\"New person '{self.name}' created. Total persons: {Person.count}\")\n",
    "\n",
    "    @classmethod\n",
    "    def get_count(cls):\n",
    "        \"\"\"Class method to get the total count of persons.\"\"\"\n",
    "        return cls.count\n",
    "\n",
    "\n",
    "person1 = Person(\"Alice\")\n",
    "person2 = Person(\"Bob\")\n",
    "person3 = Person(\"Charlie\")\n",
    "print(f\"Total number of persons created: {Person.get_count()}\")\n",
    "print(\"\\n\")"
   ]
  },
  {
   "cell_type": "markdown",
   "id": "db201cfe-162f-4b8c-9732-058e4949e940",
   "metadata": {},
   "source": [
    "9. Write a class Fraction with attributes numerator and denominator. Override the str method to display the\r\n",
    "fraction as \"numerator/denominator\"."
   ]
  },
  {
   "cell_type": "code",
   "execution_count": 15,
   "id": "cc8ea797-a949-4f39-81e7-f55aa37cee30",
   "metadata": {},
   "outputs": [
    {
     "name": "stdout",
     "output_type": "stream",
     "text": [
      "The fraction is: 3/4\n",
      "\n",
      "\n"
     ]
    }
   ],
   "source": [
    "class Fraction:\n",
    "    \"\"\"A class representing a fraction.\"\"\"\n",
    "    def __init__(self, numerator, denominator):\n",
    "        self.numerator = numerator\n",
    "        self.denominator = denominator\n",
    "\n",
    "    def __str__(self):\n",
    "        \"\"\"Returns a user-friendly string representation of the fraction.\"\"\"\n",
    "        return f\"{self.numerator}/{self.denominator}\"\n",
    "\n",
    "\n",
    "fraction = Fraction(3, 4)\n",
    "print(f\"The fraction is: {fraction}\")\n",
    "print(\"\\n\")"
   ]
  },
  {
   "cell_type": "markdown",
   "id": "697941eb-9e03-4167-b2e0-474496e26bef",
   "metadata": {},
   "source": [
    "10. Demonstrate operator overloading by creating a class Vector and overriding the add method to add two\r\n",
    "vectors"
   ]
  },
  {
   "cell_type": "code",
   "execution_count": 16,
   "id": "4ed32992-3a58-45e3-8fe1-235fbd3e163b",
   "metadata": {},
   "outputs": [
    {
     "name": "stdout",
     "output_type": "stream",
     "text": [
      "Vector 1: (2, 3)\n",
      "Vector 2: (5, 7)\n",
      "Sum of vectors: (7, 10)\n",
      "\n",
      "\n"
     ]
    }
   ],
   "source": [
    "class Vector:\n",
    "    \"\"\"A class representing a 2D vector.\"\"\"\n",
    "    def __init__(self, x, y):\n",
    "        self.x = x\n",
    "        self.y = y\n",
    "\n",
    "    def __add__(self, other):\n",
    "        \"\"\"Overrides the '+' operator to add two vectors.\"\"\"\n",
    "        if isinstance(other, Vector):\n",
    "            new_x = self.x + other.x\n",
    "            new_y = self.y + other.y\n",
    "            return Vector(new_x, new_y)\n",
    "        else:\n",
    "            raise TypeError(\"Unsupported operand type for +\")\n",
    "\n",
    "    def __str__(self):\n",
    "        \"\"\"Provides a string representation for the vector.\"\"\"\n",
    "        return f\"({self.x}, {self.y})\"\n",
    "\n",
    "\n",
    "v1 = Vector(2, 3)\n",
    "v2 = Vector(5, 7)\n",
    "v3 = v1 + v2\n",
    "print(f\"Vector 1: {v1}\")\n",
    "print(f\"Vector 2: {v2}\")\n",
    "print(f\"Sum of vectors: {v3}\")\n",
    "print(\"\\n\")\n"
   ]
  },
  {
   "cell_type": "markdown",
   "id": "5aeca900-4ec9-4721-bb7a-c2f1357d7693",
   "metadata": {},
   "source": [
    "11. Create a class Person with attributes name and age. Add a method greet() that prints \"Hello, my name is\r\n",
    "{name} and I am {age} years old.\"\r\n",
    "\r\n",
    "\r"
   ]
  },
  {
   "cell_type": "code",
   "execution_count": 17,
   "id": "df73ea05-e0a9-4b87-b155-2a7a0bbe948b",
   "metadata": {},
   "outputs": [
    {
     "name": "stdout",
     "output_type": "stream",
     "text": [
      "Hello, my name is Jane and I am 25 years old.\n",
      "\n",
      "\n"
     ]
    }
   ],
   "source": [
    "class Person:\n",
    "    \"\"\"A class representing a person.\"\"\"\n",
    "    def __init__(self, name, age):\n",
    "        self.name = name\n",
    "        self.age = age\n",
    "\n",
    "    def greet(self):\n",
    "        \"\"\"Greets the user with a personal message.\"\"\"\n",
    "        print(f\"Hello, my name is {self.name} and I am {self.age} years old.\")\n",
    "\n",
    "\n",
    "p = Person(\"Jane\", 25)\n",
    "p.greet()\n",
    "print(\"\\n\")"
   ]
  },
  {
   "cell_type": "markdown",
   "id": "09b47641-6a3e-424e-937d-2d2a016824fa",
   "metadata": {},
   "source": [
    "12. Implement a class Student with attributes name and grades. Create a method average_grade() to compute\r\n",
    "the average of the grades."
   ]
  },
  {
   "cell_type": "code",
   "execution_count": 18,
   "id": "ee4e0d80-5190-4f9d-a776-a2684d18bea5",
   "metadata": {},
   "outputs": [
    {
     "name": "stdout",
     "output_type": "stream",
     "text": [
      "Student: Max\n",
      "Grades: [90, 85, 92, 78]\n",
      "Average grade: 86.25\n",
      "\n",
      "\n"
     ]
    }
   ],
   "source": [
    "class Student:\n",
    "    \"\"\"A class representing a student with grades.\"\"\"\n",
    "    def __init__(self, name, grades):\n",
    "        self.name = name\n",
    "        self.grades = grades\n",
    "\n",
    "    def average_grade(self):\n",
    "        \"\"\"Computes the average grade of the student.\"\"\"\n",
    "        if not self.grades:\n",
    "            return 0\n",
    "        return sum(self.grades) / len(self.grades)\n",
    "\n",
    "\n",
    "student = Student(\"Max\", [90, 85, 92, 78])\n",
    "print(f\"Student: {student.name}\")\n",
    "print(f\"Grades: {student.grades}\")\n",
    "print(f\"Average grade: {student.average_grade():.2f}\")\n",
    "print(\"\\n\")"
   ]
  },
  {
   "cell_type": "markdown",
   "id": "045af5d5-5fff-4c87-b8bf-e33400de1cc3",
   "metadata": {},
   "source": [
    "13. Create a class Rectangle with methods set_dimensions() to set the dimensions and area() to calculate the\r\n",
    "area."
   ]
  },
  {
   "cell_type": "code",
   "execution_count": 19,
   "id": "f62b697d-8d3a-479e-9500-e104abfbf0b0",
   "metadata": {},
   "outputs": [
    {
     "name": "stdout",
     "output_type": "stream",
     "text": [
      "Dimensions set to 10x5\n",
      "Area of the rectangle: 50\n",
      "\n",
      "\n"
     ]
    }
   ],
   "source": [
    "class Rectangle:\n",
    "    \"\"\"A class to calculate the area of a rectangle.\"\"\"\n",
    "    def __init__(self, length=0, width=0):\n",
    "        self.length = length\n",
    "        self.width = width\n",
    "\n",
    "    def set_dimensions(self, length, width):\n",
    "        \"\"\"Sets the length and width of the rectangle.\"\"\"\n",
    "        self.length = length\n",
    "        self.width = width\n",
    "        print(f\"Dimensions set to {self.length}x{self.width}\")\n",
    "\n",
    "    def area(self):\n",
    "        \"\"\"Calculates and returns the area of the rectangle.\"\"\"\n",
    "        return self.length * self.width\n",
    "\n",
    "\n",
    "rect = Rectangle()\n",
    "rect.set_dimensions(10, 5)\n",
    "print(f\"Area of the rectangle: {rect.area()}\")\n",
    "print(\"\\n\")"
   ]
  },
  {
   "cell_type": "markdown",
   "id": "5fb63144-2f1c-4095-b39a-b73a70532101",
   "metadata": {},
   "source": [
    "14. Create a class Employee with a method calculate_salary() that computes the salary based on hours worked\r\n",
    "and hourly rate. Create a derived class Manager that adds a bonus to the salary"
   ]
  },
  {
   "cell_type": "code",
   "execution_count": 20,
   "id": "a4ed430f-fa1c-42e9-8ac9-96a008569420",
   "metadata": {},
   "outputs": [
    {
     "name": "stdout",
     "output_type": "stream",
     "text": [
      "Employee salary for 40 hours: $1000\n",
      "Manager salary for 40 hours: $2100\n",
      "\n",
      "\n"
     ]
    }
   ],
   "source": [
    "class Employee:\n",
    "    \"\"\"A base class for employees.\"\"\"\n",
    "    def __init__(self, hourly_rate):\n",
    "        self.hourly_rate = hourly_rate\n",
    "\n",
    "    def calculate_salary(self, hours_worked):\n",
    "        \"\"\"Calculates the salary based on hours worked.\"\"\"\n",
    "        return self.hourly_rate * hours_worked\n",
    "\n",
    "class Manager(Employee):\n",
    "    \"\"\"A derived class for a manager with a bonus.\"\"\"\n",
    "    def __init__(self, hourly_rate, bonus):\n",
    "        super().__init__(hourly_rate)\n",
    "        self.bonus = bonus\n",
    "\n",
    "    def calculate_salary(self, hours_worked):\n",
    "        \"\"\"Overrides salary calculation to include a bonus.\"\"\"\n",
    "        base_salary = super().calculate_salary(hours_worked)\n",
    "        return base_salary + self.bonus\n",
    "\n",
    "\n",
    "regular_employee = Employee(25)\n",
    "manager = Manager(40, 500)\n",
    "\n",
    "print(f\"Employee salary for 40 hours: ${regular_employee.calculate_salary(40)}\")\n",
    "print(f\"Manager salary for 40 hours: ${manager.calculate_salary(40)}\")\n",
    "print(\"\\n\")\n"
   ]
  },
  {
   "cell_type": "markdown",
   "id": "892ea465-8ac1-402b-8d08-379162609939",
   "metadata": {},
   "source": [
    "15. Create a class Product with attributes name, price, and quantity. Implement a method total_price() that\r\n",
    "calculates the total price of the product."
   ]
  },
  {
   "cell_type": "code",
   "execution_count": 21,
   "id": "b33e03d0-b46c-4b09-97a7-fb92c39bd145",
   "metadata": {},
   "outputs": [
    {
     "name": "stdout",
     "output_type": "stream",
     "text": [
      "Product: Laptop\n",
      "Price per unit: $1200\n",
      "Quantity: 2\n",
      "Total price: $2400\n",
      "\n",
      "\n"
     ]
    }
   ],
   "source": [
    "class Product:\n",
    "    \"\"\"A class to represent a product with its details and total price.\"\"\"\n",
    "    def __init__(self, name, price, quantity):\n",
    "        self.name = name\n",
    "        self.price = price\n",
    "        self.quantity = quantity\n",
    "\n",
    "    def total_price(self):\n",
    "        \"\"\"Calculates the total price of the product.\"\"\"\n",
    "        return self.price * self.quantity\n",
    "\n",
    "\n",
    "item = Product(\"Laptop\", 1200, 2)\n",
    "print(f\"Product: {item.name}\")\n",
    "print(f\"Price per unit: ${item.price}\")\n",
    "print(f\"Quantity: {item.quantity}\")\n",
    "print(f\"Total price: ${item.total_price()}\")\n",
    "print(\"\\n\")"
   ]
  },
  {
   "cell_type": "markdown",
   "id": "34fcdadb-4a7c-4aba-9024-b235e7c7f3c3",
   "metadata": {},
   "source": [
    "16. Create a class Animal with an abstract method sound(). Create two derived classes Cow and Sheep that\r\n",
    "implement the sound() method."
   ]
  },
  {
   "cell_type": "code",
   "execution_count": 22,
   "id": "b8d83899-fc15-497e-9d4c-1ecef5586d5e",
   "metadata": {},
   "outputs": [
    {
     "name": "stdout",
     "output_type": "stream",
     "text": [
      "The cow says: Moo!\n",
      "The sheep says: Baa!\n",
      "\n",
      "\n"
     ]
    }
   ],
   "source": [
    "from abc import ABC, abstractmethod\n",
    "\n",
    "class Animal(ABC):\n",
    "    \"\"\"An abstract base class with an abstract method for sound.\"\"\"\n",
    "    @abstractmethod\n",
    "    def sound(self):\n",
    "        \"\"\"Abstract method to be implemented by subclasses.\"\"\"\n",
    "        pass\n",
    "\n",
    "class Cow(Animal):\n",
    "    \"\"\"A derived class representing a cow.\"\"\"\n",
    "    def sound(self):\n",
    "        \"\"\"Implements the sound() method for a cow.\"\"\"\n",
    "        return \"Moo!\"\n",
    "\n",
    "class Sheep(Animal):\n",
    "    \"\"\"A derived class representing a sheep.\"\"\"\n",
    "    def sound(self):\n",
    "        \"\"\"Implements the sound() method for a sheep.\"\"\"\n",
    "        return \"Baa!\"\n",
    "\n",
    "\n",
    "my_cow = Cow()\n",
    "my_sheep = Sheep()\n",
    "\n",
    "print(f\"The cow says: {my_cow.sound()}\")\n",
    "print(f\"The sheep says: {my_sheep.sound()}\")\n",
    "print(\"\\n\")"
   ]
  },
  {
   "cell_type": "markdown",
   "id": "c9b44dae-af56-4219-a623-71bbbad90755",
   "metadata": {},
   "source": [
    "17. Create a class Book with attributes title, author, and year_published. Add a method get_book_info() that\r\n",
    "returns a formatted string with the book's details."
   ]
  },
  {
   "cell_type": "code",
   "execution_count": 23,
   "id": "2be42249-fb64-44d0-95ce-3295de6d87fb",
   "metadata": {},
   "outputs": [
    {
     "name": "stdout",
     "output_type": "stream",
     "text": [
      "Book info: \"The Hitchhiker's Guide to the Galaxy\" by Douglas Adams, published in 1979.\n",
      "\n",
      "\n"
     ]
    }
   ],
   "source": [
    "class Book:\n",
    "    \"\"\"A class to store information about a book.\"\"\"\n",
    "    def __init__(self, title, author, year_published):\n",
    "        self.title = title\n",
    "        self.author = author\n",
    "        self.year_published = year_published\n",
    "\n",
    "    def get_book_info(self):\n",
    "        \"\"\"Returns a formatted string with the book's details.\"\"\"\n",
    "        return f'\"{self.title}\" by {self.author}, published in {self.year_published}.'\n",
    "\n",
    "\n",
    "book = Book(\"The Hitchhiker's Guide to the Galaxy\", \"Douglas Adams\", 1979)\n",
    "print(f\"Book info: {book.get_book_info()}\")\n",
    "print(\"\\n\")"
   ]
  },
  {
   "cell_type": "markdown",
   "id": "cd1eabbe-3db7-4514-9aea-e67201d07829",
   "metadata": {},
   "source": [
    "18. Create a class House with attributes address and price. Create a derived class Mansion that adds an\r\n",
    "attribute number_of_rooms."
   ]
  },
  {
   "cell_type": "code",
   "execution_count": 24,
   "id": "f786f3bf-2dc7-4d96-a460-4b5a82dfa03f",
   "metadata": {},
   "outputs": [
    {
     "name": "stdout",
     "output_type": "stream",
     "text": [
      "Regular house details:\n",
      "Address: 123 Main St\n",
      "Price: $350000\n",
      "--------------------\n",
      "Mansion details:\n",
      "Address: 456 Estate Blvd\n",
      "Price: $5000000\n",
      "Number of rooms: 20\n",
      "\n",
      "\n"
     ]
    }
   ],
   "source": [
    "class House:\n",
    "    \"\"\"A parent class representing a house.\"\"\"\n",
    "    def __init__(self, address, price):\n",
    "        self.address = address\n",
    "        self.price = price\n",
    "\n",
    "class Mansion(House):\n",
    "    \"\"\"A derived class representing a mansion with additional attributes.\"\"\"\n",
    "    def __init__(self, address, price, number_of_rooms):\n",
    "        # Call the parent class's constructor\n",
    "        super().__init__(address, price)\n",
    "        self.number_of_rooms = number_of_rooms\n",
    "\n",
    "\n",
    "regular_house = House(\"123 Main St\", 350000)\n",
    "print(\"Regular house details:\")\n",
    "print(f\"Address: {regular_house.address}\")\n",
    "print(f\"Price: ${regular_house.price}\")\n",
    "\n",
    "print(\"-\" * 20)\n",
    "\n",
    "luxurious_mansion = Mansion(\"456 Estate Blvd\", 5000000, 20)\n",
    "print(\"Mansion details:\")\n",
    "print(f\"Address: {luxurious_mansion.address}\")\n",
    "print(f\"Price: ${luxurious_mansion.price}\")\n",
    "print(f\"Number of rooms: {luxurious_mansion.number_of_rooms}\")\n",
    "print(\"\\n\")"
   ]
  },
  {
   "cell_type": "code",
   "execution_count": null,
   "id": "c2aaa940-6042-4d3a-8b7c-50dcc93cef14",
   "metadata": {},
   "outputs": [],
   "source": []
  }
 ],
 "metadata": {
  "kernelspec": {
   "display_name": "Python 3 (ipykernel)",
   "language": "python",
   "name": "python3"
  },
  "language_info": {
   "codemirror_mode": {
    "name": "ipython",
    "version": 3
   },
   "file_extension": ".py",
   "mimetype": "text/x-python",
   "name": "python",
   "nbconvert_exporter": "python",
   "pygments_lexer": "ipython3",
   "version": "3.11.7"
  }
 },
 "nbformat": 4,
 "nbformat_minor": 5
}
